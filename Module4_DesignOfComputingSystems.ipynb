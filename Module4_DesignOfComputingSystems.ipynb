{
  "nbformat": 4,
  "nbformat_minor": 0,
  "metadata": {
    "colab": {
      "name": "Module4-DesignOfComputingSystems.ipynb",
      "provenance": [],
      "authorship_tag": "ABX9TyMdXu9amDTYIgSs/vf/S+LU",
      "include_colab_link": true
    },
    "kernelspec": {
      "name": "python3",
      "display_name": "Python 3"
    }
  },
  "cells": [
    {
      "cell_type": "markdown",
      "metadata": {
        "id": "view-in-github",
        "colab_type": "text"
      },
      "source": [
        "<a href=\"https://colab.research.google.com/github/UCLA-CE-Freshers-Bootcamp-2020/M4-Design-of-Computing-Systems/blob/master/Module4_DesignOfComputingSystems.ipynb\" target=\"_parent\"><img src=\"https://colab.research.google.com/assets/colab-badge.svg\" alt=\"Open In Colab\"/></a>"
      ]
    },
    {
      "cell_type": "code",
      "metadata": {
        "id": "Gc6k_JZ8d-ET",
        "colab_type": "code",
        "colab": {}
      },
      "source": [
        "import math\n",
        "import numpy as np"
      ],
      "execution_count": null,
      "outputs": []
    },
    {
      "cell_type": "code",
      "metadata": {
        "id": "CqrfdyBWec6A",
        "colab_type": "code",
        "colab": {}
      },
      "source": [
        "class Component:\n",
        "  def __init__(self, type, size, cost, power, perf):\n",
        "    self.type = type\n",
        "    self.size = size       ##in mm^2\n",
        "    self.cost = cost       ##in $$\n",
        "    self.power = power     ##in Watts\n",
        "    self.perf = perf       ##in number of operations per nanosecond\n",
        "\n",
        "\n",
        "class Battery:\n",
        "   def __init__(self, type, size, capacity, cost):\n",
        "    self.type = type\n",
        "    self.size = size\n",
        "    self.capacity = capacity ##in Watt-hour\n",
        "    self.cost = cost ##in $$\n",
        "    "
      ],
      "execution_count": null,
      "outputs": []
    },
    {
      "cell_type": "markdown",
      "metadata": {
        "id": "UhJcrfRgjYWf",
        "colab_type": "text"
      },
      "source": [
        "Given the list of components for a given system, calculate power, performance, size and cost of the system"
      ]
    },
    {
      "cell_type": "code",
      "metadata": {
        "id": "PSwZfzKejidB",
        "colab_type": "code",
        "colab": {}
      },
      "source": [
        "#Input would be the name of the metric and a list containing all the components of the system\n",
        "def get_system_metrics(metric, components):\n",
        "  \n",
        "  total_metric = 0\n",
        "  curr_perf = 10000000000\n",
        "  \n",
        "  for component in components:\n",
        "    if metric is 'size':\n",
        "      total_metric += component.size\n",
        "    elif metric is 'cost':\n",
        "      total_metric += component.cost\n",
        "    elif metric is 'power':\n",
        "      total_metric += component.power\n",
        "    elif metric is 'perf':\n",
        "      if component.perf < curr_perf:\n",
        "        curr_perf = component.perf\n",
        "    else:\n",
        "      print(\"Metric doesn't exist!\")\n",
        "\n",
        "  if metric is 'perf':\n",
        "    return curr_perf\n",
        "\n",
        "  return total_metric"
      ],
      "execution_count": null,
      "outputs": []
    },
    {
      "cell_type": "code",
      "metadata": {
        "id": "UNC3HiJWt-5Y",
        "colab_type": "code",
        "colab": {}
      },
      "source": [
        "def get_battery_time(battery_obj, system_power):\n",
        "  return float(battery_obj.capacity/system_power)"
      ],
      "execution_count": null,
      "outputs": []
    },
    {
      "cell_type": "markdown",
      "metadata": {
        "id": "mfMzBK5kegS5",
        "colab_type": "text"
      },
      "source": [
        "Let's assume that we have the following components to build different systems:\n",
        "\n",
        "(1) **Processors**\n",
        "    a. Processor Big\n",
        "    b. Processor Medium\n",
        "    c. Processor Small\n",
        "\n",
        "(2) **Memory**\n",
        "    a. Memory Fast-Small\n",
        "    b. Memory Slow-Large\n",
        "    c. Memory Slowest-Large\n",
        "\n",
        "(3) **Network Support**\n",
        "    a. Network Very-Fast\n",
        "    b. Network Fast\n",
        "    c. Network Slow\n",
        "\n",
        "(4) **GPS sensor**\n",
        "    a. GPS Sensor Very-Accurate\n",
        "    b. GPS Sensor Moderately-Accurate\n",
        "\n",
        "(5) **Battery**\n",
        "    a. Large Battery\n",
        "    b. Medium Battery\n",
        "    c. Small Battery\n",
        "    \n",
        "  \n",
        "  **Parameters of components** : Size, Cost, Power, Performance. The class definition for generic component is provided next"
      ]
    },
    {
      "cell_type": "code",
      "metadata": {
        "id": "uWsonNcyk-G0",
        "colab_type": "code",
        "colab": {}
      },
      "source": [
        "processor_big = Component(type='processor_big', size=400, cost=500, power=100, perf=1000)\n",
        "processor_medium = Component(type='processor_medium', size=200, cost=200, power=30, perf=500)\n",
        "processor_small = Component(type='processor_small', size=50, cost=20, power=2, perf=50)\n",
        "processors = [processor_big, processor_medium, processor_small]\n",
        "\n",
        "memory_fast_small = Component(type='memory_fast_small', size=100, cost=100, power=100, perf=2000)\n",
        "memory_slow_large = Component(type='memory_slow_large', size=300, cost=100, power=30, perf=500)\n",
        "memory_slowest_large = Component(type='memory_slowest_large', size=300, cost=50, power=50, perf=300)\n",
        "memories = [memory_fast_small, memory_slow_large, memory_slowest_large]\n",
        "\n",
        "network_very_fast = Component(type='network_very_fast', size=20, cost=50, power=100, perf=1500)\n",
        "network_fast = Component(type='network_fast', size=15, cost=30, power=50, perf=500)\n",
        "network_slow = Component(type='network_slow', size=5, cost=10, power=20, perf=300)\n",
        "networks = [network_very_fast, network_fast, network_slow]\n",
        "\n",
        "sensor_very_accurate = Component(type='sensor_very_accurate', size=10, cost=80, power=10, perf=300)\n",
        "sensor_moderately_accurate = Component(type='sensor_moderately_accurate', size=5, cost=30, power=5, perf=100)\n",
        "sensors = [sensor_very_accurate, sensor_moderately_accurate]\n",
        "\n",
        "battery_large = Battery(type='battery_large', size=2000, capacity=1000, cost=300)\n",
        "battery_medium = Battery(type='battery_medium', size=1000, capacity=500, cost=150)\n",
        "battery_small = Battery(type='battery_small', size=200, capacity=100, cost=30)\n",
        "batteries = [battery_large, battery_medium, battery_small]"
      ],
      "execution_count": null,
      "outputs": []
    },
    {
      "cell_type": "markdown",
      "metadata": {
        "id": "yDzeSVz5i2JH",
        "colab_type": "text"
      },
      "source": [
        "Question--1: You have to identify one type of each component (excluding battery) which could be assembled to build a system with the lowest power and report the components selected and total power"
      ]
    },
    {
      "cell_type": "code",
      "metadata": {
        "id": "KmX-aw0XiyXJ",
        "colab_type": "code",
        "colab": {}
      },
      "source": [
        "def find_system_w_lowest_power():\n"
      ],
      "execution_count": null,
      "outputs": []
    },
    {
      "cell_type": "code",
      "metadata": {
        "id": "zsBXwxkIwtcO",
        "colab_type": "code",
        "colab": {}
      },
      "source": [
        "##Run the function here\n",
        "find_system_w_lowest_power()"
      ],
      "execution_count": null,
      "outputs": []
    },
    {
      "cell_type": "markdown",
      "metadata": {
        "id": "Yxgqo9WZu0dV",
        "colab_type": "text"
      },
      "source": [
        "Question-2: Find the system which is running an application which depends on accurate sensing and needs to be battery powered for as long as possible. \n",
        "\n",
        "Note that the system performance is bottlenecked by the sensor. Also we want to store as much of the data possible without sending it through the network. "
      ]
    },
    {
      "cell_type": "code",
      "metadata": {
        "id": "u61O1bYguz_K",
        "colab_type": "code",
        "colab": {}
      },
      "source": [
        "def find_accurate_sensing_system():\n",
        "  "
      ],
      "execution_count": null,
      "outputs": []
    },
    {
      "cell_type": "code",
      "metadata": {
        "id": "I1W74gLbw9tP",
        "colab_type": "code",
        "colab": {}
      },
      "source": [
        "##Run the function here\n",
        "find_accurate_sensing_system()"
      ],
      "execution_count": null,
      "outputs": []
    },
    {
      "cell_type": "markdown",
      "metadata": {
        "id": "R8mdjw8Xv_OG",
        "colab_type": "text"
      },
      "source": [
        "Question-3:Find the system which doesn't require any sensor and runs on plugged power but should be the largest in the composite metric of perf/(power*cost)"
      ]
    },
    {
      "cell_type": "code",
      "metadata": {
        "id": "DfckMmnswb8S",
        "colab_type": "code",
        "colab": {}
      },
      "source": [
        "def find_most_efficient_system():"
      ],
      "execution_count": null,
      "outputs": []
    },
    {
      "cell_type": "code",
      "metadata": {
        "id": "R3_gBnnBxFk5",
        "colab_type": "code",
        "colab": {}
      },
      "source": [
        "##Run the function here\n",
        "find_most_efficient_system()"
      ],
      "execution_count": null,
      "outputs": []
    }
  ]
}